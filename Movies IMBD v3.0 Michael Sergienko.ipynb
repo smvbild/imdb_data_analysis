{
 "cells": [
  {
   "cell_type": "code",
   "execution_count": 1,
   "metadata": {
    "_cell_guid": "b1076dfc-b9ad-4769-8c92-a6c4dae69d19",
    "_uuid": "8f2839f25d086af736a60e9eeb907d3b93b6e0e5"
   },
   "outputs": [],
   "source": [
    "import pandas as pd\n",
    "import operator "
   ]
  },
  {
   "cell_type": "code",
   "execution_count": 2,
   "metadata": {},
   "outputs": [],
   "source": [
    "data = pd.read_csv('data.csv')"
   ]
  },
  {
   "cell_type": "markdown",
   "metadata": {},
   "source": [
    "# Data preparation"
   ]
  },
  {
   "cell_type": "code",
   "execution_count": 3,
   "metadata": {},
   "outputs": [],
   "source": [
    "def get_season(month):\n",
    "    if month == 12 or month == 1 or month == 2:\n",
    "        return 'winter'\n",
    "    elif month == 3 or month == 4 or month == 5:\n",
    "        return 'spring'\n",
    "    elif month == 6 or month == 7 or month == 8:\n",
    "        return 'summer'\n",
    "    else:\n",
    "        return 'fall'\n",
    "\n",
    "data[\"profit\"] = data[\"revenue\"] - data[\"budget\"]\n",
    "data[\"release_month\"] = data['release_date'].apply(lambda x: int(x.split('/')[0]))\n",
    "data[\"release_season\"] = data['release_month'].apply(get_season)\n",
    "data['profitable'] = data['profit'].apply(lambda x: True if x > 0 else False)"
   ]
  },
  {
   "cell_type": "markdown",
   "metadata": {},
   "source": [
    "# 1. What movie has the biggest budget?"
   ]
  },
  {
   "cell_type": "code",
   "execution_count": 4,
   "metadata": {},
   "outputs": [
    {
     "data": {
      "text/plain": [
       "491    The Warrior's Way\n",
       "Name: original_title, dtype: object"
      ]
     },
     "execution_count": 4,
     "metadata": {},
     "output_type": "execute_result"
    }
   ],
   "source": [
    "data[data.budget == data.budget.max()][\"original_title\"]"
   ]
  },
  {
   "cell_type": "markdown",
   "metadata": {},
   "source": [
    "# 2. Which movie is the longest (in minutes)?"
   ]
  },
  {
   "cell_type": "code",
   "execution_count": 5,
   "metadata": {},
   "outputs": [
    {
     "data": {
      "text/plain": [
       "1158    Gods and Generals\n",
       "Name: original_title, dtype: object"
      ]
     },
     "execution_count": 5,
     "metadata": {},
     "output_type": "execute_result"
    }
   ],
   "source": [
    "data[data.runtime == data.runtime.max()][\"original_title\"]"
   ]
  },
  {
   "cell_type": "markdown",
   "metadata": {},
   "source": [
    "# 3. Which movie is the shortest (in minutes)?"
   ]
  },
  {
   "cell_type": "code",
   "execution_count": 6,
   "metadata": {},
   "outputs": [
    {
     "data": {
      "text/plain": [
       "769    Winnie the Pooh\n",
       "Name: original_title, dtype: object"
      ]
     },
     "execution_count": 6,
     "metadata": {},
     "output_type": "execute_result"
    }
   ],
   "source": [
    "data[data.runtime == data.runtime.min()][\"original_title\"]"
   ]
  },
  {
   "cell_type": "markdown",
   "metadata": {},
   "source": [
    "# 4. What is the mean runtime of the movies?"
   ]
  },
  {
   "cell_type": "code",
   "execution_count": 7,
   "metadata": {},
   "outputs": [
    {
     "data": {
      "text/plain": [
       "109.65343915343915"
      ]
     },
     "execution_count": 7,
     "metadata": {},
     "output_type": "execute_result"
    }
   ],
   "source": [
    "data.runtime.mean()"
   ]
  },
  {
   "cell_type": "markdown",
   "metadata": {},
   "source": [
    "# 5. What is the median runtime of the movies?\n",
    "\n",
    "\n"
   ]
  },
  {
   "cell_type": "code",
   "execution_count": 8,
   "metadata": {},
   "outputs": [
    {
     "data": {
      "text/plain": [
       "106.5"
      ]
     },
     "execution_count": 8,
     "metadata": {},
     "output_type": "execute_result"
    }
   ],
   "source": [
    "data.runtime.median()"
   ]
  },
  {
   "cell_type": "markdown",
   "metadata": {},
   "source": [
    "# 6. Which movie is the most profitable?"
   ]
  },
  {
   "cell_type": "code",
   "execution_count": 9,
   "metadata": {},
   "outputs": [
    {
     "data": {
      "text/plain": [
       "239    Avatar\n",
       "Name: original_title, dtype: object"
      ]
     },
     "execution_count": 9,
     "metadata": {},
     "output_type": "execute_result"
    }
   ],
   "source": [
    "data.query('profit==profit.max()')[\"original_title\"]"
   ]
  },
  {
   "cell_type": "markdown",
   "metadata": {},
   "source": [
    "# 7. Which movie is the biggest box office bomb?"
   ]
  },
  {
   "cell_type": "code",
   "execution_count": 10,
   "metadata": {},
   "outputs": [
    {
     "data": {
      "text/plain": [
       "491    The Warrior's Way\n",
       "Name: original_title, dtype: object"
      ]
     },
     "execution_count": 10,
     "metadata": {},
     "output_type": "execute_result"
    }
   ],
   "source": [
    "data.query('profit==profit.min()')[\"original_title\"]"
   ]
  },
  {
   "cell_type": "markdown",
   "metadata": {},
   "source": [
    "# 8. How many movies are profitable?\n"
   ]
  },
  {
   "cell_type": "code",
   "execution_count": 11,
   "metadata": {},
   "outputs": [
    {
     "data": {
      "text/plain": [
       "1478"
      ]
     },
     "execution_count": 11,
     "metadata": {},
     "output_type": "execute_result"
    }
   ],
   "source": [
    "len(data.query('profitable').index)"
   ]
  },
  {
   "cell_type": "markdown",
   "metadata": {},
   "source": [
    "# 9. Which movie was the most profitable in 2008"
   ]
  },
  {
   "cell_type": "code",
   "execution_count": 12,
   "metadata": {},
   "outputs": [
    {
     "data": {
      "text/plain": [
       "600    The Dark Knight\n",
       "Name: original_title, dtype: object"
      ]
     },
     "execution_count": 12,
     "metadata": {},
     "output_type": "execute_result"
    }
   ],
   "source": [
    "mov_2008 = data.query('release_year==2008')\n",
    "mov_2008.query('profit==profit.max()')[\"original_title\"]"
   ]
  },
  {
   "cell_type": "markdown",
   "metadata": {},
   "source": [
    "# 10. Which movie was the biggest box office bomb of the years 2012-2014?"
   ]
  },
  {
   "cell_type": "code",
   "execution_count": 13,
   "metadata": {},
   "outputs": [
    {
     "data": {
      "text/plain": [
       "1246    The Lone Ranger\n",
       "Name: original_title, dtype: object"
      ]
     },
     "execution_count": 13,
     "metadata": {},
     "output_type": "execute_result"
    }
   ],
   "source": [
    "mov_12_14 = data.query('2012<=release_year<=2014')\n",
    "mov_12_14.query('profit==profit.min()')['original_title']"
   ]
  },
  {
   "cell_type": "markdown",
   "metadata": {},
   "source": [
    "# 11. Movies of which genre are the most frequent in the dataset?"
   ]
  },
  {
   "cell_type": "code",
   "execution_count": 14,
   "metadata": {},
   "outputs": [
    {
     "name": "stdout",
     "output_type": "stream",
     "text": [
      "('Drama', 782)\n",
      "('Comedy', 683)\n",
      "('Thriller', 597)\n",
      "('Action', 583)\n",
      "('Adventure', 416)\n"
     ]
    }
   ],
   "source": [
    "genres = {}\n",
    "for genre_list in data[\"genres\"]:\n",
    "    for genre in genre_list.split('|'):\n",
    "        if genre in genres.keys():\n",
    "            genres[genre] += 1\n",
    "        else:\n",
    "            genres[genre] = 1\n",
    "\n",
    "sorted_genres = sorted(genres.items(), key=operator.itemgetter(1), reverse=True)\n",
    "for i in range(5):\n",
    "    print(sorted_genres[i])"
   ]
  },
  {
   "cell_type": "markdown",
   "metadata": {},
   "source": [
    "# 12. Which genre is the most frequent among the profitable movies?"
   ]
  },
  {
   "cell_type": "code",
   "execution_count": 15,
   "metadata": {},
   "outputs": [
    {
     "name": "stdout",
     "output_type": "stream",
     "text": [
      "('Drama', 560)\n",
      "('Comedy', 551)\n",
      "('Thriller', 446)\n",
      "('Action', 444)\n",
      "('Adventure', 337)\n"
     ]
    }
   ],
   "source": [
    "profit_movies = data.query('profitable')\n",
    "\n",
    "genres = {}\n",
    "for genre_list in profit_movies[\"genres\"]:\n",
    "    for genre in genre_list.split('|'):\n",
    "        if genre in genres.keys():\n",
    "            genres[genre] += 1\n",
    "        else:\n",
    "            genres[genre] = 1\n",
    "\n",
    "sorted_genres = sorted(genres.items(), key=operator.itemgetter(1), reverse=True)\n",
    "for i in range(5):\n",
    "    print(sorted_genres[i])"
   ]
  },
  {
   "cell_type": "markdown",
   "metadata": {},
   "source": [
    "# 13. Which director has filmed the most movies?"
   ]
  },
  {
   "cell_type": "code",
   "execution_count": 16,
   "metadata": {},
   "outputs": [
    {
     "name": "stdout",
     "output_type": "stream",
     "text": [
      "('Steven Soderbergh', 13)\n",
      "('Ridley Scott', 12)\n",
      "('Clint Eastwood', 12)\n",
      "('Robert Rodriguez', 11)\n",
      "('Steven Spielberg', 10)\n"
     ]
    }
   ],
   "source": [
    "directors = {}\n",
    "\n",
    "for director_list in data[\"director\"]:\n",
    "    for director in director_list.split('|'):\n",
    "        if director in directors.keys():\n",
    "            directors[director] += 1\n",
    "        else:\n",
    "            directors[director] = 1\n",
    "    \n",
    "sorted_directors = sorted(directors.items(), key=operator.itemgetter(1), reverse=True)\n",
    "for i in range(5):\n",
    "    print(sorted_directors[i])"
   ]
  },
  {
   "cell_type": "markdown",
   "metadata": {},
   "source": [
    "# 14. Which director has filmed the most profitable movies?"
   ]
  },
  {
   "cell_type": "code",
   "execution_count": 17,
   "metadata": {},
   "outputs": [
    {
     "name": "stdout",
     "output_type": "stream",
     "text": [
      "('Ridley Scott', 12)\n",
      "('Steven Spielberg', 10)\n",
      "('Clint Eastwood', 10)\n",
      "('Steven Soderbergh', 10)\n",
      "('Shawn Levy', 9)\n"
     ]
    }
   ],
   "source": [
    "profit_movies = data.query('profitable')\n",
    "directors = {}\n",
    "\n",
    "for director_list in profit_movies[\"director\"]:\n",
    "    for director in director_list.split('|'):\n",
    "        if director in directors.keys():\n",
    "            directors[director] += 1\n",
    "        else:\n",
    "            directors[director] = 1\n",
    "\n",
    "sorted_directors = sorted(directors.items(), key=operator.itemgetter(1), reverse=True)\n",
    "for i in range(5):\n",
    "    print(sorted_directors[i])"
   ]
  },
  {
   "cell_type": "markdown",
   "metadata": {},
   "source": [
    "# 15. Which director has brought the most profit?"
   ]
  },
  {
   "cell_type": "code",
   "execution_count": 18,
   "metadata": {},
   "outputs": [
    {
     "name": "stdout",
     "output_type": "stream",
     "text": [
      "('Peter Jackson', 5202593685)\n",
      "('David Yates', 3379295625)\n",
      "('Christopher Nolan', 3162548502)\n",
      "('J.J. Abrams', 2839169916)\n",
      "('Michael Bay', 2760938960)\n"
     ]
    }
   ],
   "source": [
    "directors = {}\n",
    "\n",
    "for index, director_list in enumerate(data[\"director\"]):\n",
    "    for director in director_list.split('|'):\n",
    "        if director in directors.keys():\n",
    "            directors[director] += data.loc[index]['profit']\n",
    "        else:\n",
    "            directors[director] = data.loc[index]['profit']\n",
    "            \n",
    "sorted_directors = sorted(directors.items(), key=operator.itemgetter(1), reverse=True)\n",
    "for i in range(5):\n",
    "    print(sorted_directors[i])"
   ]
  },
  {
   "cell_type": "markdown",
   "metadata": {},
   "source": [
    "# 16. Which actor has brought the most profit?"
   ]
  },
  {
   "cell_type": "code",
   "execution_count": 19,
   "metadata": {},
   "outputs": [
    {
     "name": "stdout",
     "output_type": "stream",
     "text": [
      "('Emma Watson', 6666245597)\n",
      "('Daniel Radcliffe', 6514990281)\n",
      "('Rupert Grint', 6408638290)\n",
      "('Ian McKellen', 6087375777)\n",
      "('Robert Downey Jr.', 5316030161)\n"
     ]
    }
   ],
   "source": [
    "actors = {}\n",
    "\n",
    "for index, cast in enumerate(data['cast']):\n",
    "    for actor in cast.split('|'):\n",
    "        if actor in actors.keys():\n",
    "            actors[actor] += data.loc[index]['profit']\n",
    "        else:\n",
    "            actors[actor] = data.loc[index]['profit']\n",
    "            \n",
    "sorted_actors = sorted(actors.items(), key=operator.itemgetter(1), reverse=True)\n",
    "for i in range(5):\n",
    "    print(sorted_actors[i])"
   ]
  },
  {
   "cell_type": "markdown",
   "metadata": {},
   "source": [
    "# 17. Which actor has brought the least profit in 2012?"
   ]
  },
  {
   "cell_type": "code",
   "execution_count": 22,
   "metadata": {},
   "outputs": [
    {
     "name": "stdout",
     "output_type": "stream",
     "text": [
      "('Kirsten Dunst', -68109207)\n",
      "('Timothy Spall', -51893525)\n",
      "('James Kidnie', -51893525)\n",
      "('Heidi Hawkins', -51893525)\n",
      "('Malin Ã…kerman', -43733509)\n"
     ]
    }
   ],
   "source": [
    "mov_12 = data.query('release_year==2012')\n",
    "actors = {}\n",
    "\n",
    "for index, cast in enumerate(mov_12['cast']):\n",
    "    for actor in cast.split('|'):\n",
    "        if actor in actors.keys():\n",
    "            actors[actor] += mov_12.iloc[index]['profit']\n",
    "        else:\n",
    "            actors[actor] = mov_12.iloc[index]['profit']\n",
    "\n",
    "sorted_actors = sorted(actors.items(), key=operator.itemgetter(1))\n",
    "for i in range(5):\n",
    "    print(sorted_actors[i])"
   ]
  },
  {
   "cell_type": "markdown",
   "metadata": {},
   "source": [
    "# 18. Which actor was in the cast of most movies with the budget above the mean?"
   ]
  },
  {
   "cell_type": "code",
   "execution_count": 23,
   "metadata": {},
   "outputs": [
    {
     "name": "stdout",
     "output_type": "stream",
     "text": [
      "('Matt Damon', 18)\n",
      "('Adam Sandler', 17)\n",
      "('Angelina Jolie', 16)\n",
      "('Tom Cruise', 15)\n",
      "('Samuel L. Jackson', 15)\n"
     ]
    }
   ],
   "source": [
    "above_avg_budget = data.query('budget>budget.mean()')\n",
    "actors = {}\n",
    "\n",
    "for index, cast in enumerate(above_avg_budget['cast']):\n",
    "    for actor in cast.split('|'):\n",
    "        if actor in actors.keys():\n",
    "            actors[actor] += 1\n",
    "        else:\n",
    "            actors[actor] = 1\n",
    "            \n",
    "sorted_actors = sorted(actors.items(), key=operator.itemgetter(1), reverse=True)\n",
    "for i in range(5):\n",
    "    print(sorted_actors[i])"
   ]
  },
  {
   "cell_type": "markdown",
   "metadata": {},
   "source": [
    "# 19. Movies of which genre star Nicolas Cage most frequently?"
   ]
  },
  {
   "cell_type": "code",
   "execution_count": 24,
   "metadata": {},
   "outputs": [
    {
     "name": "stdout",
     "output_type": "stream",
     "text": [
      "('Action', 17)\n",
      "('Thriller', 15)\n",
      "('Drama', 12)\n",
      "('Crime', 10)\n",
      "('Fantasy', 8)\n"
     ]
    }
   ],
   "source": [
    "nick_cage = data[data.cast.str.contains('Nicolas Cage')]\n",
    "genres = {}\n",
    "\n",
    "for genre_list in nick_cage[\"genres\"]:\n",
    "    for genre in genre_list.split('|'):\n",
    "        if genre in genres.keys():\n",
    "            genres[genre] += 1\n",
    "        else:\n",
    "            genres[genre] = 1\n",
    "\n",
    "sorted_genres = sorted(genres.items(), key=operator.itemgetter(1), reverse=True)\n",
    "for i in range(5):\n",
    "    print(sorted_genres[i])"
   ]
  },
  {
   "cell_type": "markdown",
   "metadata": {},
   "source": [
    "# 20. Which production company has filmed the largest number of movies?"
   ]
  },
  {
   "cell_type": "code",
   "execution_count": 25,
   "metadata": {},
   "outputs": [
    {
     "name": "stdout",
     "output_type": "stream",
     "text": [
      "('Universal Pictures', 173)\n",
      "('Warner Bros.', 168)\n",
      "('Paramount Pictures', 122)\n",
      "('Columbia Pictures', 117)\n",
      "('Twentieth Century Fox Film Corporation', 109)\n"
     ]
    }
   ],
   "source": [
    "studios = {}\n",
    "\n",
    "for studio_list in data['production_companies']:\n",
    "    for studio in studio_list.split('|'):\n",
    "        if studio in studios.keys():\n",
    "            studios[studio] += 1\n",
    "        else:\n",
    "            studios[studio] = 1\n",
    "            \n",
    "sorted_studios = sorted(studios.items(), key=operator.itemgetter(1), reverse=True)\n",
    "for i in range(5):\n",
    "    print(sorted_studios[i])"
   ]
  },
  {
   "cell_type": "markdown",
   "metadata": {},
   "source": [
    "# 21. Which production company has filmed the largest number of movies in the year 2015?"
   ]
  },
  {
   "cell_type": "code",
   "execution_count": 26,
   "metadata": {},
   "outputs": [
    {
     "name": "stdout",
     "output_type": "stream",
     "text": [
      "('Warner Bros.', 12)\n",
      "('Universal Pictures', 10)\n",
      "('Twentieth Century Fox Film Corporation', 8)\n",
      "('Paramount Pictures', 7)\n",
      "('Columbia Pictures', 7)\n"
     ]
    }
   ],
   "source": [
    "mov_2015 = data.query('release_year==2015')\n",
    "studios = {}\n",
    "\n",
    "for studio_list in mov_2015['production_companies']:\n",
    "    for studio in studio_list.split('|'):\n",
    "        if studio in studios.keys():\n",
    "            studios[studio] += 1\n",
    "        else:\n",
    "            studios[studio] = 1\n",
    "            \n",
    "sorted_studios = sorted(studios.items(), key=operator.itemgetter(1), reverse=True)\n",
    "for i in range(5):\n",
    "    print(sorted_studios[i])"
   ]
  },
  {
   "cell_type": "markdown",
   "metadata": {},
   "source": [
    "# 22. Which production company had the largest profit from comedies?"
   ]
  },
  {
   "cell_type": "code",
   "execution_count": 27,
   "metadata": {},
   "outputs": [
    {
     "name": "stdout",
     "output_type": "stream",
     "text": [
      "('Universal Pictures', 8961545581)\n",
      "('Walt Disney Pictures', 7669710326)\n",
      "('Twentieth Century Fox Film Corporation', 5686960294)\n",
      "('Columbia Pictures', 5646343696)\n",
      "('DreamWorks Animation', 4789049764)\n"
     ]
    }
   ],
   "source": [
    "comedies = data[data.genres.str.contains('Comedy')]\n",
    "studios = {}\n",
    "\n",
    "for index, studio_list in enumerate(comedies['production_companies']):\n",
    "    for studio in studio_list.split('|'):\n",
    "        if studio in studios.keys():\n",
    "            studios[studio] += comedies.iloc[index]['profit']\n",
    "        else:\n",
    "            studios[studio] = comedies.iloc[index]['profit']\n",
    "            \n",
    "sorted_studios = sorted(studios.items(), key=operator.itemgetter(1), reverse=True)\n",
    "for i in range(5):\n",
    "    print(sorted_studios[i])"
   ]
  },
  {
   "cell_type": "markdown",
   "metadata": {},
   "source": [
    "# 23. Which production company was the most profitable in the year 2012?"
   ]
  },
  {
   "cell_type": "code",
   "execution_count": 28,
   "metadata": {},
   "outputs": [
    {
     "name": "stdout",
     "output_type": "stream",
     "text": [
      "('Columbia Pictures', 2501406608)\n",
      "('Universal Pictures', 1981011579)\n",
      "('Marvel Studios', 1299557910)\n",
      "('Warner Bros.', 1258020056)\n",
      "('Relativity Media', 1032593938)\n"
     ]
    }
   ],
   "source": [
    "mov_12 = data.query('release_year==2012')\n",
    "studios = {}\n",
    "\n",
    "for index, studio_list in enumerate(mov_12['production_companies']):\n",
    "    for studio in studio_list.split('|'):\n",
    "        if studio in studios.keys():\n",
    "            studios[studio] += mov_12.iloc[index]['profit']\n",
    "        else:\n",
    "            studios[studio] = mov_12.iloc[index]['profit']\n",
    "            \n",
    "sorted_studios = sorted(studios.items(), key=operator.itemgetter(1), reverse=True)\n",
    "for i in range(5):\n",
    "    print(sorted_studios[i])"
   ]
  },
  {
   "cell_type": "markdown",
   "metadata": {},
   "source": [
    "# 24. Which movie produced by \"Paramount Pictures\" was the biggest box office bomb?"
   ]
  },
  {
   "cell_type": "code",
   "execution_count": 29,
   "metadata": {},
   "outputs": [
    {
     "data": {
      "text/plain": [
       "926    K-19: The Widowmaker\n",
       "Name: original_title, dtype: object"
      ]
     },
     "execution_count": 29,
     "metadata": {},
     "output_type": "execute_result"
    }
   ],
   "source": [
    "paramount = data[data.production_companies.str.contains('Paramount Pictures')]\n",
    "\n",
    "paramount.query('profit==profit.min()')['original_title']"
   ]
  },
  {
   "cell_type": "markdown",
   "metadata": {},
   "source": [
    "# 25. Which year was the most profitable overall?"
   ]
  },
  {
   "cell_type": "code",
   "execution_count": 30,
   "metadata": {},
   "outputs": [
    {
     "name": "stdout",
     "output_type": "stream",
     "text": [
      "(2015, 18668572378)\n",
      "(2014, 16397812953)\n",
      "(2012, 16077001687)\n",
      "(2013, 15243179791)\n",
      "(2011, 14730241341)\n"
     ]
    }
   ],
   "source": [
    "years = {}\n",
    "\n",
    "for index, year in enumerate(data['release_year']):\n",
    "    if year in years.keys():\n",
    "        years[year] += data.iloc[index]['profit']\n",
    "    else:\n",
    "        years[year] = data.iloc[index]['profit']\n",
    "\n",
    "sorted_years = sorted(years.items(), key=operator.itemgetter(1), reverse=True)\n",
    "for i in range(5):\n",
    "    print(sorted_years[i])"
   ]
  },
  {
   "cell_type": "markdown",
   "metadata": {},
   "source": [
    "# 26. Which year was the most profitable for the production company \"Warner Bros.\"?"
   ]
  },
  {
   "cell_type": "code",
   "execution_count": 31,
   "metadata": {},
   "outputs": [
    {
     "name": "stdout",
     "output_type": "stream",
     "text": [
      "(2014, 2295464519)\n",
      "(2007, 2201675217)\n",
      "(2008, 2134595031)\n",
      "(2010, 1974712985)\n",
      "(2011, 1871393682)\n"
     ]
    }
   ],
   "source": [
    "warner = data[data.production_companies.str.contains('Warner Bros')]\n",
    "years = {}\n",
    "\n",
    "for index, year in enumerate(warner['release_year']):\n",
    "    if year in years.keys():\n",
    "        years[year] += warner.iloc[index]['profit']\n",
    "    else:\n",
    "        years[year] = warner.iloc[index]['profit']\n",
    "\n",
    "sorted_years = sorted(years.items(), key=operator.itemgetter(1), reverse=True)\n",
    "for i in range(5):\n",
    "    print(sorted_years[i])"
   ]
  },
  {
   "cell_type": "markdown",
   "metadata": {},
   "source": [
    "# 27. During which month has the largest number of movies come out?"
   ]
  },
  {
   "cell_type": "code",
   "execution_count": 32,
   "metadata": {},
   "outputs": [
    {
     "name": "stdout",
     "output_type": "stream",
     "text": [
      "(9, 227)\n",
      "(12, 191)\n",
      "(10, 186)\n",
      "(8, 161)\n",
      "(3, 156)\n"
     ]
    }
   ],
   "source": [
    "months = {} \n",
    "\n",
    "for month in data['release_month']:\n",
    "    if month in months.keys():\n",
    "        months[month] += 1\n",
    "    else:\n",
    "        months[month] = 1\n",
    "\n",
    "sorted_months = sorted(months.items(), key=operator.itemgetter(1), reverse=True)\n",
    "for i in range(5):\n",
    "    print(sorted_months[i])"
   ]
  },
  {
   "cell_type": "markdown",
   "metadata": {},
   "source": [
    "# 28. How many movies have come out during the summer?"
   ]
  },
  {
   "cell_type": "code",
   "execution_count": 33,
   "metadata": {},
   "outputs": [
    {
     "data": {
      "text/plain": [
       "450"
      ]
     },
     "execution_count": 33,
     "metadata": {},
     "output_type": "execute_result"
    }
   ],
   "source": [
    "len(data.query('release_season==\"summer\"').index)"
   ]
  },
  {
   "cell_type": "markdown",
   "metadata": {},
   "source": [
    "# 29. Which director releases the largest number of movies during the winter?"
   ]
  },
  {
   "cell_type": "code",
   "execution_count": 34,
   "metadata": {},
   "outputs": [
    {
     "name": "stdout",
     "output_type": "stream",
     "text": [
      "('Peter Jackson', 7)\n",
      "('Clint Eastwood', 6)\n",
      "('Steven Soderbergh', 6)\n",
      "('Shawn Levy', 4)\n",
      "('Nancy Meyers', 4)\n"
     ]
    }
   ],
   "source": [
    "winter = data.query('release_season==\"winter\"')\n",
    "directors = {}\n",
    "\n",
    "for director_list in winter[\"director\"]:\n",
    "    for director in director_list.split('|'):\n",
    "        if director in directors.keys():\n",
    "            directors[director] += 1\n",
    "        else:\n",
    "            directors[director] = 1\n",
    "\n",
    "sorted_directors = sorted(directors.items(), key=operator.itemgetter(1), reverse=True)\n",
    "for i in range(5):\n",
    "    print(sorted_directors[i])"
   ]
  },
  {
   "cell_type": "markdown",
   "metadata": {},
   "source": [
    "# 30. Which month is the most profitable in a year most frequently?"
   ]
  },
  {
   "cell_type": "code",
   "execution_count": 35,
   "metadata": {},
   "outputs": [
    {
     "name": "stdout",
     "output_type": "stream",
     "text": [
      "(6, 7)\n",
      "(5, 4)\n",
      "(12, 4)\n",
      "(7, 1)\n"
     ]
    }
   ],
   "source": [
    "months_total = {}\n",
    "years = []\n",
    "by_year = {}\n",
    "\n",
    "for year in data['release_year']:\n",
    "    if year not in years:\n",
    "        years.append(year)\n",
    "\n",
    "for year in years:\n",
    "    if year not in by_year.keys():\n",
    "        by_year[year] = data.query(f'release_year=={year}')\n",
    "        \n",
    "for df in by_year.values():\n",
    "    months_temp = {}\n",
    "    for index, month in enumerate(df['release_month']):\n",
    "        if month in months_temp.keys():\n",
    "            months_temp[month] += df.iloc[index]['profit']\n",
    "        else:\n",
    "            months_temp[month] = df.iloc[index]['profit']\n",
    "            \n",
    "    most_profitable_month = max(iter(months_temp.items()), key=operator.itemgetter(1))[0]\n",
    "    \n",
    "    if most_profitable_month in months_total.keys():\n",
    "        months_total[most_profitable_month] += 1\n",
    "    else:\n",
    "        months_total[most_profitable_month] = 1\n",
    "    \n",
    "sorted_months = sorted(months_total.items(), key=operator.itemgetter(1), reverse=True)\n",
    "for i in range(len(sorted_months)):\n",
    "    print(sorted_months[i])\n",
    "    "
   ]
  },
  {
   "cell_type": "markdown",
   "metadata": {},
   "source": [
    "# 31. Which production company has the longest movie names (counting symbols)?"
   ]
  },
  {
   "cell_type": "code",
   "execution_count": 36,
   "metadata": {},
   "outputs": [
    {
     "name": "stdout",
     "output_type": "stream",
     "text": [
      "('Four By Two Productions', 83.0)\n",
      "('Jim Henson Company, The', 59.0)\n",
      "('Dos Corazones', 47.0)\n",
      "('Museum Canada Productions', 46.0)\n",
      "('Polsky Films', 46.0)\n"
     ]
    }
   ],
   "source": [
    "studios = {}\n",
    "\n",
    "for index, studio_list in enumerate(data['production_companies']):\n",
    "    for studio in studio_list.split('|'):\n",
    "        if studio in studios.keys():\n",
    "            studios[studio][0] += len(data.iloc[index]['original_title'])\n",
    "            studios[studio][1] += 1\n",
    "        else:\n",
    "            studios[studio] = []\n",
    "            studios[studio].append(len(data.iloc[index]['original_title']))\n",
    "            studios[studio].append(1)\n",
    "\n",
    "studio_avg = {}\n",
    "\n",
    "for studio in studios:\n",
    "    studio_avg[studio] = studios[studio][0]/studios[studio][1]\n",
    "\n",
    "sorted_studios = sorted(studio_avg.items(), key=operator.itemgetter(1), reverse=True)\n",
    "for i in range(5):\n",
    "    print(sorted_studios[i])"
   ]
  },
  {
   "cell_type": "markdown",
   "metadata": {},
   "source": [
    "# 32. Which production company has the longest movie names (counting words)?"
   ]
  },
  {
   "cell_type": "code",
   "execution_count": 37,
   "metadata": {},
   "outputs": [
    {
     "name": "stdout",
     "output_type": "stream",
     "text": [
      "('Four By Two Productions', 12.0)\n",
      "('Jim Henson Company, The', 10.0)\n",
      "('Polsky Films', 9.0)\n",
      "('The Saul Zaentz Company', 9.0)\n",
      "('Dos Corazones', 9.0)\n"
     ]
    }
   ],
   "source": [
    "studios = {}\n",
    "\n",
    "for index, studio_list in enumerate(data['production_companies']):\n",
    "    for studio in studio_list.split('|'):\n",
    "        if studio in studios.keys():\n",
    "            studios[studio][0] += len(data.iloc[index]['original_title'].split())\n",
    "            studios[studio][1] += 1\n",
    "        else:\n",
    "            studios[studio] = []\n",
    "            studios[studio].append(len(data.iloc[index]['original_title'].split()))\n",
    "            studios[studio].append(1)\n",
    "\n",
    "studio_avg = {}\n",
    "\n",
    "for studio in studios:\n",
    "    studio_avg[studio] = studios[studio][0]/studios[studio][1]\n",
    "\n",
    "sorted_studios = sorted(studio_avg.items(), key=operator.itemgetter(1), reverse=True)\n",
    "for i in range(5):\n",
    "    print(sorted_studios[i])"
   ]
  },
  {
   "cell_type": "markdown",
   "metadata": {},
   "source": [
    "# 33. How many different words have been used in movie names?"
   ]
  },
  {
   "cell_type": "code",
   "execution_count": 38,
   "metadata": {},
   "outputs": [
    {
     "name": "stdout",
     "output_type": "stream",
     "text": [
      "2461\n"
     ]
    }
   ],
   "source": [
    "words = []\n",
    "\n",
    "for title in data['original_title']:\n",
    "    for word in title.lower().split():\n",
    "        if word not in words:\n",
    "            words.append(word)\n",
    "            \n",
    "print(len(words))"
   ]
  },
  {
   "cell_type": "markdown",
   "metadata": {},
   "source": [
    "# 35. Which actors star together most frequently?"
   ]
  },
  {
   "cell_type": "code",
   "execution_count": 39,
   "metadata": {},
   "outputs": [
    {
     "name": "stdout",
     "output_type": "stream",
     "text": [
      "8\n"
     ]
    },
    {
     "data": {
      "text/plain": [
       "('Daniel Radcliffe', 'Rupert Grint')"
      ]
     },
     "execution_count": 39,
     "metadata": {},
     "output_type": "execute_result"
    }
   ],
   "source": [
    "actors = {}\n",
    "\n",
    "for cast in data['cast']:\n",
    "    for actor in cast.split('|'):\n",
    "        if actor not in actors.keys():\n",
    "            actors[actor] = {}\n",
    "\n",
    "for index, actor in enumerate(actors):\n",
    "    cast_without_actor = []\n",
    "    temp_data = data[data.cast.str.contains(actor)]\n",
    "    for index, row in temp_data.iterrows():\n",
    "        temp_cast = row['cast'].split('|')\n",
    "        if actor in temp_cast:\n",
    "            temp_cast.remove(actor)\n",
    "            cast_without_actor += temp_cast\n",
    "    \n",
    "    for coactor in cast_without_actor:\n",
    "        if coactor in actors[actor].keys():\n",
    "            actors[actor][coactor] += 1\n",
    "        else:\n",
    "            actors[actor][coactor] = 1\n",
    "\n",
    "max_coactorship = 0\n",
    "actor_pair = ('','')\n",
    "\n",
    "for actor in actors.keys():\n",
    "    for coactor in actors[actor].keys():\n",
    "        if actors[actor][coactor] > max_coactorship:\n",
    "            max_coactorship = actors[actor][coactor]\n",
    "            actor_pair = actor, coactor\n",
    "\n",
    "print(max_coactorship)\n",
    "actor_pair"
   ]
  },
  {
   "cell_type": "markdown",
   "metadata": {},
   "source": [
    "# 36. Which director (of the ones listed below) has the biggest chance to release a profitable movie?\n",
    "1. Quentin Tarantino\n",
    "2. Steven Soderbergh\n",
    "3. Robert Rodriguez\n",
    "4. Christopher Nolan\n",
    "5. Clint Eastwood"
   ]
  },
  {
   "cell_type": "code",
   "execution_count": 40,
   "metadata": {},
   "outputs": [
    {
     "name": "stdout",
     "output_type": "stream",
     "text": [
      "Quentin Tarantino: 85.71428571428571%\n",
      "Steven Soderbergh: 76.92307692307693%\n",
      "Robert Rodriguez: 72.72727272727273%\n",
      "Christopher Nolan: 100.0%\n",
      "Clint Eastwood: 83.33333333333334%\n"
     ]
    }
   ],
   "source": [
    "directors = {}\n",
    "\n",
    "for index, director_list in enumerate(data['director']):\n",
    "    for director in director_list.split('|'):\n",
    "        if director in directors.keys():\n",
    "            if data.iloc[index]['profit'] > 0:\n",
    "                directors[director][0] += 1\n",
    "            else:\n",
    "                directors[director][1] += 1\n",
    "        else:\n",
    "            directors[director] = []\n",
    "            if data.iloc[index]['profit'] > 0:\n",
    "                directors[director].append(1)\n",
    "                directors[director].append(0)\n",
    "            else:\n",
    "                directors[director].append(0)\n",
    "                directors[director].append(1)\n",
    "    \n",
    "directors_avg = {}\n",
    "\n",
    "for director in directors.keys():\n",
    "    directors_avg[director] = directors[director][0]/(directors[director][0]+directors[director][1])\n",
    "    \n",
    "print(f'Quentin Tarantino: {directors_avg[\"Quentin Tarantino\"]*100}%')\n",
    "print(f'Steven Soderbergh: {directors_avg[\"Steven Soderbergh\"]*100}%')\n",
    "print(f'Robert Rodriguez: {directors_avg[\"Robert Rodriguez\"]*100}%')\n",
    "print(f'Christopher Nolan: {directors_avg[\"Christopher Nolan\"]*100}%')\n",
    "print(f'Clint Eastwood: {directors_avg[\"Clint Eastwood\"]*100}%')"
   ]
  },
  {
   "cell_type": "code",
   "execution_count": null,
   "metadata": {},
   "outputs": [],
   "source": []
  }
 ],
 "metadata": {
  "kernelspec": {
   "display_name": "Python 3",
   "language": "python",
   "name": "python3"
  },
  "language_info": {
   "codemirror_mode": {
    "name": "ipython",
    "version": 3
   },
   "file_extension": ".py",
   "mimetype": "text/x-python",
   "name": "python",
   "nbconvert_exporter": "python",
   "pygments_lexer": "ipython3",
   "version": "3.7.6"
  }
 },
 "nbformat": 4,
 "nbformat_minor": 4
}
